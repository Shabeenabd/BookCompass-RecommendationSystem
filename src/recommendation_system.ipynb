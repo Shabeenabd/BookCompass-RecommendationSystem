{
 "cells": [
  {
   "cell_type": "markdown",
   "id": "4993017c-cfd7-4dbb-8c9e-75ecb646b23c",
   "metadata": {},
   "source": [
    "# Import Libraries"
   ]
  },
  {
   "cell_type": "code",
   "execution_count": null,
   "id": "5bb0ce8b-6c36-48ca-8a37-3637330e2dc6",
   "metadata": {},
   "outputs": [],
   "source": [
    "import os\n",
    "import pickle\n",
    "import warnings\n",
    "import pandas as pd\n",
    "import numpy as np\n",
    "import matplotlib.pyplot as plt\n",
    "import seaborn as sns\n",
    "from sklearn.metrics.pairwise import cosine_similarity\n",
    "warnings.filterwarnings('ignore')"
   ]
  },
  {
   "cell_type": "markdown",
   "id": "ceaa1f20-8a88-414b-82a7-e5bb37254715",
   "metadata": {},
   "source": [
    "## Load Preprocessed data"
   ]
  },
  {
   "cell_type": "code",
   "execution_count": null,
   "id": "53138ebe-2d7e-4f2a-a52a-cee6c96fad77",
   "metadata": {},
   "outputs": [],
   "source": [
    "book_ratings = pd.read_csv('processed.csv')"
   ]
  },
  {
   "cell_type": "markdown",
   "id": "4b78d481-9a82-44b1-ab48-29bb9b2b169e",
   "metadata": {},
   "source": [
    "# Popularity Based Recommendation System"
   ]
  },
  {
   "cell_type": "code",
   "execution_count": null,
   "id": "8aaa4a0a-6d8b-474c-b644-1f27d31256a2",
   "metadata": {},
   "outputs": [],
   "source": [
    "# Group the data by 'Book-Title'\n",
    "# Calculate two metrics--> 1. 'count' - Number of ratings per book | 2. 'mean' - Average rating per book\n",
    "top_books = book_ratings.groupby('Book-Title')['Book-Rating'].agg(['count','mean'])\n",
    "\n",
    "# Select the top 50 books based on the number of ratings (popularity)\n",
    "top_books = top_books.nlargest(50,columns=['count'])\n",
    "\n",
    "# Sort the top 50 books by their average rating (mean) in descending order (highest-rated first)\n",
    "top_books = top_books.sort_values('mean',ascending=False).reset_index()"
   ]
  },
  {
   "cell_type": "markdown",
   "id": "e2b760b0-c0fe-4364-b7f3-bbcd94d0a45f",
   "metadata": {},
   "source": [
    "## Top 50 Books <--> No.of Ratings"
   ]
  },
  {
   "cell_type": "code",
   "execution_count": null,
   "id": "b6643447-c5da-416e-b9ec-343b1a1e51fb",
   "metadata": {},
   "outputs": [],
   "source": [
    "plt.figure(figsize=(10, 12))\n",
    "\n",
    "# X-axis: 'count' (number of ratings) Y-axis: 'Book-Title' (book names)\n",
    "plt.barh(top_books_df[\"Book-Title\"], top_books_df[\"count\"], color='skyblue')\n",
    "plt.xlabel('Count')\n",
    "plt.ylabel('Book Title')\n",
    "plt.title('Top 50 Books by Count')\n",
    "# Invert the Y-axis to display the book with the highest count at the top\n",
    "plt.gca().invert_yaxis() \n",
    "\n",
    "# Display the plot\n",
    "plt.show()"
   ]
  },
  {
   "cell_type": "markdown",
   "id": "3c23ec88-dbf9-4088-834f-b05037121d44",
   "metadata": {},
   "source": [
    "## Save the Top 50 Books Data"
   ]
  },
  {
   "cell_type": "code",
   "execution_count": null,
   "id": "aab00f9a-3c59-4675-9edb-09f156e49844",
   "metadata": {},
   "outputs": [],
   "source": [
    "# Create an 'artifacts' directory to store the processes data\n",
    "parent_dir = os.path.dirname(os.getcwd())\n",
    "target_dir = os.path.join(parent_dir,'artifacts')\n",
    "\n",
    "os.makedirs(target_dir,exist_ok=True)"
   ]
  },
  {
   "cell_type": "code",
   "execution_count": null,
   "id": "45c2e5f8-7982-45eb-bd5a-42472902f0ed",
   "metadata": {},
   "outputs": [],
   "source": [
    "# Drop the 'count' column as it's no longer needed for final output\n",
    "# Convert the result to a NumPy array for further processing or analysis\n",
    "top_books = top_books.drop(columns='count').to_numpy()\n",
    "\n",
    "# Save the top 50 books NumPy array to a pickle file for later use\n",
    "pickle.dump(top_books,open(f'{target_dir}/top_50_books.pkl','wb'))"
   ]
  },
  {
   "cell_type": "markdown",
   "id": "015dce98-81c3-455f-b161-83bb77aa605c",
   "metadata": {},
   "source": [
    "# Collaborative Filtering Based Recommender System"
   ]
  },
  {
   "cell_type": "code",
   "execution_count": null,
   "id": "e5e4628f-bee7-4ef8-a0bd-1eb68b1beecf",
   "metadata": {},
   "outputs": [],
   "source": [
    "#only selecting users who contributed more ratings \n",
    "# Group the merged book_ratings dataset by 'User-ID'\n",
    "# Count the number of 'Book-Rating' entries (ratings) given by each user\n",
    "# Check which users have given more than 50 ratings (active users)\n",
    "x = book_ratings.groupby('User-ID').count()['Book-Rating']>50 \n",
    "\n",
    "# Extract the User-IDs of active users who satisfy the above condition\n",
    "active_users = x[x].index\n",
    "\n",
    "# Print the total number of unique active users\n",
    "print('Unique users : ',len(active_users))"
   ]
  },
  {
   "cell_type": "code",
   "execution_count": null,
   "id": "775e273e-71ad-4fba-99fd-dbe57d777857",
   "metadata": {},
   "outputs": [],
   "source": [
    "# Filter the book_ratings DataFrame to keep only the ratings from active users\n",
    "filtered_user = book_ratings[book_ratings['User-ID'].isin(active_users)]\n",
    "\n",
    "# Check and return the number of unique active users present after filtering\n",
    "filtered_user['User-ID'].nunique()"
   ]
  },
  {
   "cell_type": "code",
   "execution_count": null,
   "id": "9a188f87-1fea-462a-80c2-970490bcc45b",
   "metadata": {},
   "outputs": [],
   "source": [
    "# Group the book_ratings dataset by 'Book-Title'\n",
    "# Count the number of ratings ('Book-Rating') each book received\n",
    "# Filter books that have received 40 or more ratings (considered as famous/popular books)\n",
    "y = book_ratings.groupby('Book-Title').count()['Book-Rating']>=40\n",
    "\n",
    "# Extract the Book-Titles of these popular books\n",
    "famous_books = y[y].index\n",
    "\n",
    "# Print the total number of unique popular books\n",
    "print('Unique books : ',len(famous_books))"
   ]
  },
  {
   "cell_type": "code",
   "execution_count": null,
   "id": "88ab87b5-43e4-47af-89ca-cf0c32d4b216",
   "metadata": {},
   "outputs": [],
   "source": [
    "# Filter the filtered_user DataFrame to include only the famous books\n",
    "final_ratings = filtered_user[filtered_user['Book-Title'].isin(famous_books)]\n",
    "# Drop duplicate rows, if any (same user rating the same book more than once)\n",
    "final_ratings.drop_duplicates() \n",
    "final_ratings.shape"
   ]
  },
  {
   "cell_type": "markdown",
   "id": "75210040-2780-4fbb-b72e-a38069f18270",
   "metadata": {},
   "source": [
    "# Item based Recommender system (Book)"
   ]
  },
  {
   "cell_type": "code",
   "execution_count": null,
   "id": "5dde0a9e-fa31-4652-bb12-38d7473b2f68",
   "metadata": {},
   "outputs": [],
   "source": [
    "# Create a pivot table (user-item matrix) from the final_ratings DataFrame\n",
    "# Rows: 'Book-Title'\n",
    "# Columns: 'User-ID'\n",
    "# Values: 'Book-Rating' (actual rating given by the user)\n",
    "pivot_table = final_ratings.pivot_table(index='Book-Title',columns='User-ID',values='Book-Rating')\n",
    "\n",
    "# Replace all NaN values (missing ratings) with 0\n",
    "pivot_table.fillna(0,inplace=True)\n",
    "# Display the user-item matrix\n",
    "pivot_table"
   ]
  },
  {
   "cell_type": "code",
   "execution_count": null,
   "id": "b29b6f78-61d9-4079-91e8-57779eaee547",
   "metadata": {},
   "outputs": [],
   "source": [
    "# Compute the cosine similarity between the books based on the user-item matrix\n",
    "similarity_scores = cosine_similarity(pivot_table)\n",
    "# Display the similarity scores matrix\n",
    "similarity_scores"
   ]
  },
  {
   "cell_type": "code",
   "execution_count": null,
   "id": "c39faf88-d3a4-4c3b-8bbe-6d46fc13c458",
   "metadata": {},
   "outputs": [],
   "source": [
    "similarity_scores.shape"
   ]
  },
  {
   "cell_type": "code",
   "execution_count": null,
   "id": "790cc81b-a76c-43d2-8939-88757f806107",
   "metadata": {},
   "outputs": [],
   "source": [
    "# Convert the similarity scores into a DataFrame for easier lookup\n",
    "similarity_data = pd.DataFrame(similarity_scores,index=pivot_table.index)\n",
    "\n",
    "# Define the recommendation function\n",
    "def recommend_book(book_name : str):\n",
    "    # Fetch similarity scores for the given book and Sort based on similarity score in descending order\n",
    "    similar_items = sorted(\n",
    "        list(enumerate(similarity_data.loc[book_name])),\n",
    "        key=lambda x:x[1],\n",
    "        reverse=True\n",
    "    )[1:6]  # Top 5 similar books excluding the book itself\n",
    "\n",
    "    # Print the titles of the recommended books\n",
    "    for i in similar_items:\n",
    "        print(similarity_data.index[i[0]])"
   ]
  },
  {
   "cell_type": "code",
   "execution_count": null,
   "id": "4020db69-c44a-4b17-964d-fd7546dc5d04",
   "metadata": {},
   "outputs": [],
   "source": [
    "recommend_book(\"Harry Potter and the Chamber of Secrets (Book 2)\")"
   ]
  },
  {
   "cell_type": "code",
   "execution_count": null,
   "id": "caa5b7ac-4974-4635-8c38-23300d7b581f",
   "metadata": {},
   "outputs": [],
   "source": [
    "# Prepare the data for saving the model or using it for recommendation metadata\n",
    "# Drop the 'User-ID' column since the focus is now on book-level data\n",
    "book_data = final_ratings.drop(columns=['User-ID'])\n",
    "\n",
    "# Calculate the mean (average) rating for each book\n",
    "mean_ratings = book_data.groupby('Book-Title')['Book-Rating'].mean().reset_index(name='avg_ratings')\n",
    "\n",
    "# Remove duplicate entries so that each book appears only once\n",
    "# Merge the average ratings back with the book data\n",
    "book_data = book_data.drop_duplicates(subset=['Book-Title']).merge(mean_ratings,on='Book-Title').drop('Book-Rating',axis=1)"
   ]
  },
  {
   "cell_type": "markdown",
   "id": "0a7a78c8-6773-46df-9760-7fa1474161e3",
   "metadata": {},
   "source": [
    "## Save the processed data"
   ]
  },
  {
   "cell_type": "code",
   "execution_count": null,
   "id": "4614e9c6-5d2d-4ef6-8e47-78489eb3eed7",
   "metadata": {},
   "outputs": [],
   "source": [
    "# Save the processed metadata into a pickle file.\n",
    "pickle.dump(book_data,open(f'{target_dir}/book_data.pkl','wb'))\n",
    "pickle.dump(similarity_data,open(f'{target_dir}/similarity_data.pkl','wb'))"
   ]
  },
  {
   "cell_type": "markdown",
   "id": "2e0bd2e2-7e12-4e38-a5e3-9e3c21b8f896",
   "metadata": {},
   "source": [
    "# User based Recommender System"
   ]
  },
  {
   "cell_type": "code",
   "execution_count": null,
   "id": "a040ad63-1e9c-46ab-b35d-0a84034d2129",
   "metadata": {},
   "outputs": [],
   "source": [
    "# Create a user-item matrix (pivot table) from the final_ratings DataFrame\n",
    "# Rows: 'User-ID' (each user)\n",
    "# Columns: 'Book-Title' (each book)\n",
    "# Values: 'Book-Rating' (rating given by the user to the book)\n",
    "pivot = final_ratings.pivot_table(index='User-ID',columns='Book-Title',values='Book-Rating')"
   ]
  },
  {
   "cell_type": "code",
   "execution_count": null,
   "id": "9cbb5f48-3872-4228-abbd-08ba0d2b16e9",
   "metadata": {},
   "outputs": [],
   "source": [
    "# Calculate the Pearson correlation between users based on their book ratings\n",
    "# Transpose the pivot table so that books become rows and users become columns\n",
    "user_similarity = pivot.T.corr()\n",
    "user_similarity.shape"
   ]
  },
  {
   "cell_type": "code",
   "execution_count": null,
   "id": "a25de2c5-1044-4777-bd35-0fe79cc178fb",
   "metadata": {},
   "outputs": [],
   "source": [
    "def recommend_books_by_user(user : int ,n=5)-->list:\n",
    "    # Drop the target user from similarity matrix to avoid self-comparison\n",
    "    temp = user_similarity.drop(index=user)\n",
    "\n",
    "    # Select only users similar to the target user with similarity > 0.3\n",
    "    similar_users = temp[temp[user]>0.3][user]\n",
    "\n",
    "    # Books the target user has already rated (watched/read)\n",
    "    user_watched_books = pivot.loc[user].dropna().index\n",
    "\n",
    "    # Get the ratings of similar users, drop books not rated by anyone\n",
    "    similar_users_watched = pivot.loc[similar_users.index].dropna(axis=1,how='all')\n",
    "\n",
    "    # Focus only on books the target user hasn't read\n",
    "    unwatched = similar_users_watched.drop(columns=user_watched_books,errors='ignore')\n",
    "    \n",
    "    weighted_score={} # Initialize dictionary to store weighted scores for each book\n",
    "    # Iterate through each unwatched book\n",
    "    for book in unwatched:\n",
    "        # Get ratings of similar users who rated this book\n",
    "        cleaned_movie = unwatched[book].dropna()\n",
    "\n",
    "        # Compute weighted score: similarity * rating (mean over users)\n",
    "        scores = np.array([similar_users[j]*cleaned_movie[j] for j in cleaned_movie.index]).mean()\n",
    "        weighted_score[book]=scores\n",
    "\n",
    "    # Sort the books based on weighted scores in descending order\n",
    "    sorted_books = dict(sorted(weighted_score.items(), key=lambda x: x[1], reverse=True))\n",
    "\n",
    "     # Return top N recommended books\n",
    "    return list(sorted_books.keys())[:n]"
   ]
  },
  {
   "cell_type": "code",
   "execution_count": null,
   "id": "a85e785a-f9f1-412e-b672-4e914801719e",
   "metadata": {},
   "outputs": [],
   "source": [
    "recommend_books_by_user(269566,10)"
   ]
  },
  {
   "cell_type": "markdown",
   "id": "51534435-6eb3-474c-b000-b429823ac9f5",
   "metadata": {},
   "source": [
    "## Save the user-item matrix"
   ]
  },
  {
   "cell_type": "code",
   "execution_count": 10,
   "id": "835f6f79-322c-4ea2-834e-02d65bd1eb71",
   "metadata": {},
   "outputs": [
    {
     "data": {
      "text/plain": [
       "'/home/kudsit/VRS_PRJ/BookCompass-RecommendationSystem/src'"
      ]
     },
     "execution_count": 10,
     "metadata": {},
     "output_type": "execute_result"
    }
   ],
   "source": [
    "os.getcwd()"
   ]
  },
  {
   "cell_type": "code",
   "execution_count": null,
   "id": "8838f880-60e6-4df4-8357-f1e2cbd5772b",
   "metadata": {},
   "outputs": [],
   "source": [
    "pickle.dump(pivot,open(f'{target_dir}/user_similarity.pkl','wb'))"
   ]
  },
  {
   "cell_type": "markdown",
   "id": "2d3bca85-e977-4aa0-8cbd-603a7b57e031",
   "metadata": {},
   "source": [
    "----"
   ]
  }
 ],
 "metadata": {
  "kernelspec": {
   "display_name": "Python 3 (ipykernel)",
   "language": "python",
   "name": "python3"
  },
  "language_info": {
   "codemirror_mode": {
    "name": "ipython",
    "version": 3
   },
   "file_extension": ".py",
   "mimetype": "text/x-python",
   "name": "python",
   "nbconvert_exporter": "python",
   "pygments_lexer": "ipython3",
   "version": "3.10.12"
  }
 },
 "nbformat": 4,
 "nbformat_minor": 5
}
